{
 "metadata": {
  "language_info": {
   "codemirror_mode": {
    "name": "ipython",
    "version": 3
   },
   "file_extension": ".py",
   "mimetype": "text/x-python",
   "name": "python",
   "nbconvert_exporter": "python",
   "pygments_lexer": "ipython3",
   "version": "3.6.9-final"
  },
  "orig_nbformat": 2,
  "kernelspec": {
   "name": "python3",
   "display_name": "Python 3",
   "language": "python"
  }
 },
 "nbformat": 4,
 "nbformat_minor": 2,
 "cells": [
  {
   "cell_type": "code",
   "execution_count": null,
   "metadata": {},
   "outputs": [],
   "source": [
    "\n",
    "def sorted_subdirectories(path):\n",
    "    return sorted([f.name for f in os.scandir(path) if f.is_dir()], key=lambda x: int(x))\n",
    "\n",
    "def directory_files(path):\n",
    "    return [f.name for f in os.scandir(path) if f.is_file()]\n"
   ]
  },
  {
   "cell_type": "code",
   "execution_count": null,
   "metadata": {},
   "outputs": [],
   "source": [
    "import os\n",
    "from skimage import io\n",
    "\n",
    "tests_path = \"data\"\n",
    "test_cases = sorted_subdirectories(tests_path)\n",
    "for test_case in test_cases:\n",
    "    path = \"/\".join((tests_path, test_case))\n",
    "    writers = sorted_subdirectories(path)\n",
    "    test_image = directory_files(path)[0]  \n",
    "    for writer in writers:\n",
    "        path = \"/\".join((tests_path, test_case, writer))\n",
    "        writer_documents = directory_files(path)   \n",
    "        for document in writer_documents:\n",
    "            path = \"/\".join((tests_path, test_case, writer, document))\n",
    "            image = io.imread(path)\n",
    "            # TODO: Image preprocessing \n",
    "            # TODO: Image Segmentation\n",
    "            # TODO: Features Extraction\n",
    "    path = \"/\".join((tests_path, test_case, test_image))\n",
    "    image = io.imread(path)\n",
    "    # TODO: Image Classification\n",
    "# TODO: Performance Analysis "
   ]
  },
  {
   "cell_type": "code",
   "execution_count": null,
   "metadata": {},
   "outputs": [],
   "source": []
  }
 ]
}