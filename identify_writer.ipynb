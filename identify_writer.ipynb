{
 "metadata": {
  "language_info": {
   "codemirror_mode": {
    "name": "ipython",
    "version": 3
   },
   "file_extension": ".py",
   "mimetype": "text/x-python",
   "name": "python",
   "nbconvert_exporter": "python",
   "pygments_lexer": "ipython3",
   "version": "3.6.9-final"
  },
  "orig_nbformat": 2,
  "kernelspec": {
   "name": "python3",
   "display_name": "Python 3",
   "language": "python"
  }
 },
 "nbformat": 4,
 "nbformat_minor": 2,
 "cells": [
  {
   "cell_type": "code",
   "execution_count": null,
   "metadata": {},
   "outputs": [],
   "source": [
    "import os\n",
    "import cv2\n",
    "import numpy as np\n",
    "TESTS_PATH = \"data\""
   ]
  },
  {
   "cell_type": "code",
   "execution_count": null,
   "metadata": {},
   "outputs": [],
   "source": [
    "def sorted_subdirectories(path):\n",
    "    return sorted([f.name for f in os.scandir(path) if f.is_dir()], key=lambda x: int(x))\n",
    "\n",
    "def directory_files(path):\n",
    "    return [f.name for f in os.scandir(path) if f.is_file()]"
   ]
  },
  {
   "cell_type": "code",
   "execution_count": null,
   "metadata": {},
   "outputs": [],
   "source": [
    "def image_preprocessing(image):\n",
    "    image = image[680:2800,150:]\n",
    "    gray_image = cv2.cvtColor(image, cv2.COLOR_BGR2GRAY)\n",
    "    return cv2.threshold(gray_image,127,255,cv2.THRESH_BINARY_INV)"
   ]
  },
  {
   "cell_type": "code",
   "execution_count": null,
   "metadata": {},
   "outputs": [],
   "source": [
    "def image_segmentation(image, threshold):\n",
    "    words_contours,_ = cv2.findContours(image.copy(), cv2.RETR_EXTERNAL, cv2.CHAIN_APPROX_SIMPLE)  \n",
    "    return words_contours\n",
    "   \n",
    "# Remove these lines after using the contours in features extraction method \n",
    "\"\"\" for word_contour in words_contours:\n",
    "        x, y, w, h = cv2.boundingRect(word_contour)\n",
    "        roi = image[y:y+h, x:x+w]\"\"\""
   ]
  },
  {
   "cell_type": "code",
   "execution_count": null,
   "metadata": {},
   "outputs": [],
   "source": [
    "test_cases = sorted_subdirectories(TESTS_PATH)\n",
    "for test_case in test_cases:\n",
    "    path = \"/\".join((TESTS_PATH, test_case))\n",
    "    writers = sorted_subdirectories(path)\n",
    "    test_image = directory_files(path)[0]  \n",
    "    for writer in writers:\n",
    "        path = \"/\".join((TESTS_PATH, test_case, writer))\n",
    "        writer_documents = directory_files(path)   \n",
    "        for document in writer_documents:\n",
    "            path = \"/\".join((TESTS_PATH, test_case, writer, document))\n",
    "            image = cv2.imread(path)\n",
    "            threshold, inverted_binary_image = image_preprocessing(image)\n",
    "            words_contours = image_segmentation(inverted_binary_image, threshold)\n",
    "            # TODO: Features Extraction\n",
    "    path = \"/\".join((TESTS_PATH, test_case, test_image))\n",
    "    image = cv2.imread(path)\n",
    "    # TODO: Image Classification\n",
    "# TODO: Performance Analysis "
   ]
  },
  {
   "cell_type": "code",
   "execution_count": null,
   "metadata": {
    "tags": []
   },
   "outputs": [],
   "source": [
    "# For Testing and will be removed\n",
    "\"\"\"\n",
    "for image_name in directory_files(\"test_images/\"):\n",
    "    path = \"/\".join((\"test_images\", image_name))\n",
    "    image = cv2.imread(path)\n",
    "    threshold, inverted_binary_image = image_preprocessing(image)\n",
    "    binary_image = 255 - inverted_binary_image\n",
    "    words_contours = image_segmentation(inverted_binary_image, threshold)\n",
    "    for word_contour in words_contours:\n",
    "        x, y, w, h = cv2.boundingRect(word_contour)\n",
    "        image = cv2.rectangle(binary_image, (x,y),( x + w, y + h ), 0, 1)\n",
    "    path = \"/\".join((\"preprocessed_images\", image_name))\n",
    "    cv2.imwrite(path, binary_image)\"\"\"\n",
    "\n"
   ]
  },
  {
   "cell_type": "code",
   "execution_count": null,
   "metadata": {},
   "outputs": [],
   "source": []
  },
  {
   "cell_type": "code",
   "execution_count": null,
   "metadata": {},
   "outputs": [],
   "source": []
  }
 ]
}